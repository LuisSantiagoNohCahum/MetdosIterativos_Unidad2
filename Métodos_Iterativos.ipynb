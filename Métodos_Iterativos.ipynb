{
 "cells": [
  {
   "cell_type": "markdown",
   "metadata": {},
   "source": [
    "## METODOS NUMERICOS\n",
    "### UNIDAD 2\n",
    "### INTEGRANTES\n",
    "+ #### LUIS SANTIAGO NOH CAHUM - 19070049\n",
    "+ #### MARICELA DEL ROSARIO PUC OY - 19070051\n",
    "+ #### JESUS ISRAEL GAMBOA AKE - 19070041\n",
    "\n",
    "FECHA DE ENTREGA: 21 DE ABRIL DE 2021\n"
   ]
  },
  {
   "cell_type": "markdown",
   "metadata": {},
   "source": [
    "## **METODO DE NEWTON**"
   ]
  },
  {
   "cell_type": "code",
   "execution_count": 35,
   "metadata": {},
   "outputs": [
    {
     "name": "stdout",
     "output_type": "stream",
     "text": [
      "  iter.       xi      f(xi)     f´(xi)     xi+1       e     \n",
      "    1      5.00000  215.00000 115.00000  3.13043   0.59722  \n",
      "    2      3.13043   59.87557  54.44234  2.03064   0.54160  \n",
      "    3      2.03064   14.86725  28.61556  1.51109   0.34383  \n",
      "    4      1.51109   2.58390   18.93883  1.37465   0.09925  \n",
      "    5      1.37465   0.15630   16.66621  1.36527   0.00687  \n",
      "    6      1.36527   0.00071   16.51410  1.36523   0.00003  \n",
      "\n",
      "\tLa raiz aproximada final es: 1.36523\n"
     ]
    }
   ],
   "source": [
    "def fun(x):\n",
    "    return x**3 + 4*x**2 - 10\n",
    "\n",
    "def fun_der (x):\n",
    "    return 3*x**2 + 8*x\n",
    "\n",
    "def getError(xf, xi):\n",
    "    return abs((xf-xi)/xf)\n",
    "\n",
    "def metodo_newton(xi, error, iteraciones):\n",
    "    e = 1\n",
    "    i=0\n",
    "    print('{:^10}{:^10}{:^10}{:^10}{:^10}{:^10}'.format('iter.','xi','f(xi)','f´(xi)','xi+1','e'))\n",
    "    while (i < iteraciones):\n",
    "        xf = xi-(fun(xi)/fun_der(xi))\n",
    "        e = getError(xf, xi)\n",
    "        print('{:^10}{:^10.5f}{:^10.5f}{:^10.5f}{:^10.5f}{:^10.5f}'.format((i+1),xi,fun(xi),fun_der(xi),xf,e))\n",
    "        if e<error:\n",
    "            return \"\\n\\tEl valor de la raiz (aproximadamente) es: \"+str(\"{0:.5f}\".format(xf))\n",
    "            break\n",
    "        else:\n",
    "            xi=xf\n",
    "            i+=1  \n",
    "    return \"\\n\\tSE ALCANZO EL NUMERO MAXIMO DE ITERACIONES\\n\\tLa aproximacion alcanzada para x con \"+str(i)+\" iteraciones es: \"+str(\"{0:.5f}\".format(xf))\n",
    "\n",
    "            \n",
    "print(metodo_newton(5, 0.0001,7))"
   ]
  },
  {
   "cell_type": "markdown",
   "metadata": {},
   "source": [
    "## **METODO DE BISECCION**"
   ]
  },
  {
   "cell_type": "code",
   "execution_count": 28,
   "metadata": {},
   "outputs": [
    {
     "name": "stdout",
     "output_type": "stream",
     "text": [
      "  iter.       xi        xS        xr      f(xi)     f(xr)   f(xi)*f(xr)     e     \n",
      "    1       1.000     2.000     1.5000   -5.0000    2.3750    -11.8750   1.000000 \n",
      "    2       1.000     1.500     1.2500   -5.0000   -1.7969     8.9844    0.200000 \n",
      "    3       1.250     1.500     1.3750   -1.7969    0.1621    -0.2913    0.090909 \n",
      "    4       1.250     1.375     1.3125   -1.7969   -0.8484     1.5244    0.047619 \n",
      "    5       1.312     1.375     1.3438   -0.8484   -0.3510     0.2978    0.023256 \n",
      "    6       1.344     1.375     1.3594   -0.3510   -0.0964     0.0338    0.011494 \n",
      "    7       1.359     1.375     1.3672   -0.0964    0.0324    -0.0031    0.005714 \n",
      "    8       1.359     1.367     1.3633   -0.0964   -0.0321     0.0031    0.002865 \n",
      "    9       1.363     1.367     1.3652   -0.0321    0.0001    -0.0000    0.001431 \n",
      "    10      1.363     1.365     1.3643   -0.0321   -0.0160     0.0005    0.000716 \n",
      "    11      1.364     1.365     1.3647   -0.0160   -0.0080     0.0001    0.000358 \n",
      "    12      1.365     1.365     1.3650   -0.0080   -0.0040     0.0000    0.000179 \n",
      "    13      1.365     1.365     1.3651   -0.0040   -0.0019     0.0000    0.000089 \n",
      "\n",
      "\tEl valor de la raiz (aproximadamente) es: 1.3651123046875\n"
     ]
    }
   ],
   "source": [
    "def fun(x):\n",
    "    return x**3 + 4*x**2 - 10\n",
    "\n",
    "def getError(xf, xi):\n",
    "    return abs((xf-xi)/xf)\n",
    "\n",
    "def metodo_biseccion(xi, xs, error, iteraciones):\n",
    "    if fun(xi)*fun(xs)<0:\n",
    "        e = 1\n",
    "        i=0\n",
    "        xe=0;\n",
    "        print('{:^10}{:^10}{:^10}{:^10}{:^10}{:^10}{:^12}{:^10}'.format('iter.','xi','xS','xr','f(xi)','f(xr)','f(xi)*f(xr)','e'))\n",
    "        while (i < iteraciones):\n",
    "            xr = (xi+xs)/2\n",
    "            if i>0:\n",
    "                e = getError(xr, xe)\n",
    "            xe=xr\n",
    "            fxi=fun(xi)\n",
    "            fxr=fun(xr)\n",
    "            signo=fxr*fxi\n",
    "            print('{:^10}{:^10.3f}{:^10.3f}{:^10.4f}{:^10.4f}{:^10.4f}{:^12.4f}{:^10.6f}'.format((i+1),xi,xs,xr,fxi,fxr,signo,e))\n",
    "            if e<error or fxr==0:\n",
    "                return \"\\n\\tEl valor de la raiz (aproximadamente) es: \"+ str(xr)\n",
    "                break\n",
    "            else:\n",
    "                if signo <0:\n",
    "                    xs=xr\n",
    "                    i+=1\n",
    "                if signo >0:\n",
    "                    xi=xr\n",
    "                    i+=1\n",
    "    else: \n",
    "        return \"No hay raices en el intervalo dado, ingrese otro intervalo\"\n",
    "    return \"\\n\\tSE ALCANZO EL NUM. MAX DE ITERACIONES\\n\\tLa raiz aproximada alcanzada despues de \" + str(i)+\" iteraciones es: \"+ str(xr)\n",
    "        \n",
    "                \n",
    "    \n",
    "      \n",
    "print(metodo_biseccion(1,2, 0.0001,16))"
   ]
  },
  {
   "cell_type": "markdown",
   "metadata": {},
   "source": [
    "## **METODO DE LA SECANTE**"
   ]
  },
  {
   "cell_type": "code",
   "execution_count": 47,
   "metadata": {},
   "outputs": [
    {
     "name": "stdout",
     "output_type": "stream",
     "text": [
      "Iteracion   1  ¬ raiz:     0.61270   error:     0.63212\n",
      "Iteracion   2  ¬ raiz:     0.65344   error:     0.06235\n",
      "Iteracion   3  ¬ raiz:     0.65292   error:     0.00080\n",
      "\n",
      "\tEl valor de la raiz (aproximadamente) es: 0.6529172652472789\n"
     ]
    }
   ],
   "source": [
    "def fun(x):\n",
    "    return math.e ** (-x**2)-x\n",
    "\n",
    "def getError(xf, xi):\n",
    "    return abs((xf-xi)/xf)\n",
    "\n",
    "def metodo_secante(x0, x1, error, iteraciones):\n",
    "    e = 1\n",
    "    i=0\n",
    "    while (i < iteraciones):\n",
    "        p0=fun(x0)\n",
    "        p1=fun(x1)\n",
    "        solucion=x1-((p1*(x0-x1))/(p0-p1))\n",
    "        e= getError(solucion, x1)\n",
    "        print(\"Iteracion\", \"{0:3}\".format(i+1), \" ¬ raiz: \", \"{0:10.5f}\".format(solucion), \"  error: \",\"{0:10.5f}\".format(e))\n",
    "        if e<error:\n",
    "            return \"\\n\\tEl valor de la raiz (aproximadamente) es: \"+ str(solucion)\n",
    "            break\n",
    "        else:\n",
    "            x0=x1\n",
    "            x1=solucion\n",
    "            i+=1\n",
    "    return \"\\n\\tSE ALCANZO EL NUM. MAX DE ITERACIONES\\n\\tLa raiz aproximada alcanzada despues de \" + str(i)+\" iteraciones es: \"+ str(solucion)\n",
    "\n",
    "\n",
    "print(metodo_secante(0,1,0.01, 3))"
   ]
  },
  {
   "cell_type": "markdown",
   "metadata": {},
   "source": [
    "## **METODO DE PUNTO FIJO**"
   ]
  },
  {
   "cell_type": "code",
   "execution_count": 50,
   "metadata": {},
   "outputs": [
    {
     "name": "stdout",
     "output_type": "stream",
     "text": [
      "Iteracion   1  ¬ raiz:     1.34840   error:     0.11243\n",
      "Iteracion   2  ¬ raiz:     1.36738   error:     0.01388\n",
      "Iteracion   3  ¬ raiz:     1.36496   error:     0.00177\n",
      "Iteracion   4  ¬ raiz:     1.36526   error:     0.00023\n",
      "\n",
      "\tEl valor de la raiz (aproximadamente) es: 1.3652647481134421\n"
     ]
    }
   ],
   "source": [
    "import math\n",
    "\n",
    "def fun(x):\n",
    "    return (10/(4+x))**(1/2)\n",
    "\n",
    "def getError(xf, xi):\n",
    "    return abs((xf-xi)/xf)\n",
    "\n",
    "def punto_fijo (x, error, iteraciones):\n",
    "    i=0\n",
    "    e=1\n",
    "    while (i < iteraciones):\n",
    "        p= fun(x)\n",
    "        e = getError(p, x)\n",
    "        print(\"Iteracion\", \"{0:3}\".format(i+1), \" ¬ raiz: \", \"{0:10.5f}\".format(p), \"  error: \",\"{0:10.5f}\".format(e))\n",
    "        if (e<error):\n",
    "            return \"\\n\\tEl valor de la raiz (aproximadamente) es: \"+ str(p)\n",
    "        i+=1\n",
    "        x=p\n",
    "    return \"\\n\\tSE ALCANZO EL NUM. MAX DE ITERACIONES\\n\\tLa raiz aproximada alcanzada despues de \" + str(i)+\" iteraciones es: \"+ str(p)\n",
    "\n",
    "print(punto_fijo(1.5,0.001, 10))\n",
    "    "
   ]
  },
  {
   "cell_type": "code",
   "execution_count": null,
   "metadata": {},
   "outputs": [],
   "source": []
  }
 ],
 "metadata": {
  "kernelspec": {
   "display_name": "Python 3",
   "language": "python",
   "name": "python3"
  },
  "language_info": {
   "codemirror_mode": {
    "name": "ipython",
    "version": 3
   },
   "file_extension": ".py",
   "mimetype": "text/x-python",
   "name": "python",
   "nbconvert_exporter": "python",
   "pygments_lexer": "ipython3",
   "version": "3.8.5"
  }
 },
 "nbformat": 4,
 "nbformat_minor": 4
}
